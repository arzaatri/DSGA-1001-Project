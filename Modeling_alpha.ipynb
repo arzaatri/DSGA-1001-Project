{
 "cells": [
  {
   "cell_type": "markdown",
   "metadata": {},
   "source": [
    "Things to check:\n",
    "\n",
    "-Maybe we have too many features? Try dropping some of the less important\n",
    "categorical/engineered ones\n",
    "\n",
    "-Other methods of upsampling? Maybe mix up and down sampling?\n",
    "\n",
    "-Tuning parameters of SMOTE? Cursory look says 2 neighbors works best\n",
    "\n",
    "-Maybe the paper just used training AUC??\n"
   ]
  },
  {
   "cell_type": "code",
   "execution_count": 3,
   "metadata": {},
   "outputs": [
    {
     "data": {
      "text/plain": [
       "Index(['FVC', 'FEV1', 'Performance', 'Pain', 'Haemoptysis', 'Dyspnoea',\n",
       "       'Cough', 'Weakness', 'Tumor_size', 'Type2_diabetes', 'Smoking', 'Age',\n",
       "       'FEV1/FVC', 'FEV1_deficit', 'FVC_deficit', 'FEV1/FVC_deficit', 'FEV1^2',\n",
       "       'FVC^2', 'Age*FVC', 'Age*FEV1', 'FVC*FEV1', 'FVC^2*FEV1', 'FVC*FEV1^2',\n",
       "       '_DGN2', '_DGN3', '_DGN4', '_DGN5'],\n",
       "      dtype='object')"
      ]
     },
     "execution_count": 3,
     "metadata": {},
     "output_type": "execute_result"
    }
   ],
   "source": [
    "from preprocess import surgery_preprocess # A .py with preprocessing code\n",
    "# The models we'll use, minus XGBoost\n",
    "from sklearn.linear_model import LogisticRegression\n",
    "from sklearn import svm\n",
    "from sklearn.ensemble import RandomForestClassifier\n",
    "# For eval\n",
    "from sklearn.model_selection import RandomizedSearchCV, StratifiedKFold, cross_val_score\n",
    "from sklearn.metrics import roc_auc_score, recall_score, accuracy_score, f1_score\n",
    "# imblearn is 'imbalanced learn,' an sklearn-compatible package for\n",
    "# dealing with imbalanced data\n",
    "from imblearn.pipeline import Pipeline\n",
    "from imblearn.over_sampling import RandomOverSampler, SMOTENC\n",
    "# HyperOpt is a hyperparameter tuning package\n",
    "from hyperopt import fmin, tpe, anneal, hp, Trials, space_eval\n",
    "import numpy as np\n",
    "\n",
    "X_train, X_test, y_train, y_test = surgery_preprocess()\n",
    "X_train_t = X_train.drop(columns=['FVC^2', 'FEV1^2', 'FVC*FEV1^2', 'FVC^2*FEV1'])\n",
    "X_test_t = X_test.drop(columns=['FVC^2', 'FEV1^2', 'FVC*FEV1^2', 'FVC^2*FEV1'])\n",
    "X_train.columns"
   ]
  },
  {
   "cell_type": "code",
   "execution_count": 4,
   "metadata": {},
   "outputs": [],
   "source": [
    "def get_scores(pipe, train_X, train_y, test_X, test_y, n=7):\n",
    "    auc = 0\n",
    "    recall = 0\n",
    "    f1 = 0\n",
    "    auc_train = 0\n",
    "    recall_train = 0\n",
    "    for i in range(n):\n",
    "        auc+=roc_auc_score(test_y, pipe.predict_proba(test_X)[:,1])\n",
    "        recall+=recall_score(test_y, pipe.predict(test_X))\n",
    "        f1+=recall_score(test_y, pipe.predict(test_X))\n",
    "        auc_train+=roc_auc_score(train_y, pipe.predict_proba(train_X)[:,1])\n",
    "        recall_train+=recall_score(train_y, pipe.predict(train_X))\n",
    "    auc /= n\n",
    "    recall /= n\n",
    "    f1 /= n\n",
    "    auc_train /= n\n",
    "    recall_train /= n\n",
    "    \n",
    "    return auc,recall,f1,auc_train,recall_train"
   ]
  },
  {
   "cell_type": "code",
   "execution_count": 5,
   "metadata": {},
   "outputs": [],
   "source": [
    "# Initializing a few things that will be used in several cells\n",
    "\n",
    "kf = StratifiedKFold(n_splits = 5, shuffle=True)\n",
    "# SMOTENC is built to work with categorical data. ROS randomly resamples the\n",
    "# minority class. Similar performance so far, but ROS is faster\n",
    "smoter_nc = SMOTENC(categorical_features = list(range(2,14))+list(range(26,30)),\n",
    "                             k_neighbors=2)\n",
    "ros = RandomOverSampler()"
   ]
  },
  {
   "cell_type": "markdown",
   "metadata": {},
   "source": [
    "### Logistic Regression"
   ]
  },
  {
   "cell_type": "code",
   "execution_count": null,
   "metadata": {},
   "outputs": [],
   "source": [
    "# HyperOpt requires you to manually build the objective function which\n",
    "# it will try to minimize. Only argument needed is params, which are the\n",
    "# hyperparameters it tries. Might be able to use other parameters to the\n",
    "# objective using functools?\n",
    "\n",
    "def lr_objective(params):\n",
    "    lr_pipe.set_params(**params)\n",
    "    score = cross_val_score(lr_pipe, X_train, y_train, cv=kf, scoring='roc_auc')\n",
    "    return 1-score.mean()\n",
    "lr = LogisticRegression(max_iter=2000)\n",
    "lr_pipe = Pipeline([('upsample', ros), ('model', lr)])\n",
    "lr_params = {'model__C': hp.uniform('model__C', 0,1000)}\n",
    "lr_trials = Trials() # Stores logging information\n",
    "\n",
    "# This call is what actually optimizer parameters\n",
    "lr_best = fmin(fn = lr_objective, space=lr_params, \n",
    "               algo=anneal.suggest, max_evals = 50,\n",
    "               trials=lr_trials)\n",
    "lr_best_params = space_eval(lr_params, lr_best) # Retrieves those parameters"
   ]
  },
  {
   "cell_type": "code",
   "execution_count": null,
   "metadata": {},
   "outputs": [],
   "source": [
    "print(lr_best_params)\n",
    "lr_pipe.set_params(**lr_best_params)\n",
    "lr_pipe.fit(X_train_t, y_train) \n",
    "\n",
    "auc, recall, f1, auc_train, recall_train = get_scores(lr_pipe, X_train,\n",
    "                                                     y_train, X_test,\n",
    "                                                     y_test, 12)\n",
    "print(auc)\n",
    "print(recall)\n",
    "print(f1)\n",
    "print(auc_train)\n",
    "print(recall_train)\n",
    "print(accuracy_score(y_test,lr_pipe.predict(X_test_t2)))\n",
    "\n",
    "# With relative deficits"
   ]
  },
  {
   "cell_type": "markdown",
   "metadata": {},
   "source": [
    "Depending on seed, relative deficit is either unilaterally better or worse across testing AUC, recall, and accuracy... so use whichever?"
   ]
  },
  {
   "cell_type": "markdown",
   "metadata": {},
   "source": [
    "### SVM"
   ]
  },
  {
   "cell_type": "code",
   "execution_count": 50,
   "metadata": {},
   "outputs": [
    {
     "name": "stdout",
     "output_type": "stream",
     "text": [
      "100%|███████████████████████████████████████████████| 20/20 [04:42<00:00, 14.13s/trial, best loss: 0.28715728715728717]\n"
     ]
    }
   ],
   "source": [
    "def svm_objective(params):\n",
    "    sv_pipe.set_params(**params)\n",
    "    score = cross_val_score(sv_pipe, X_train, y_train, cv=kf, scoring='roc_auc')\n",
    "    return 1-score.mean()\n",
    "\n",
    "# I tried a gaussian kernel and it often failed to fit. Maybe\n",
    "# worth playing with sigmoid/poly, or tuning class_weights?\n",
    "sv = svm.SVC(kernel='linear', probability=True)\n",
    "sv_pipe = Pipeline([('upsample', ros), ('model', sv)])\n",
    "sv_params = {'model__C': hp.uniform('model__C', 0,200)}\n",
    "sv_trials = Trials()\n",
    "sv_best = fmin(fn=svm_objective, space=sv_params,\n",
    "           algo=anneal.suggest, max_evals=20,\n",
    "           trials=sv_trials)\n",
    "\n",
    "sv_best_params = space_eval(sv_params, sv_trials.argmin)"
   ]
  },
  {
   "cell_type": "code",
   "execution_count": 52,
   "metadata": {},
   "outputs": [
    {
     "name": "stdout",
     "output_type": "stream",
     "text": [
      "{'model__C': 53.92243654501601}\n",
      "0.5741410488245932\n",
      "0.42857142857142855\n"
     ]
    }
   ],
   "source": [
    "# Best C is around ~ 53.922\n",
    "print(sv_best_params)\n",
    "sv_pipe.set_params(**sv_best_params)\n",
    "sv_pipe.fit(X_train, y_train) \n",
    "print(roc_auc_score(y_test, sv_pipe.predict_proba(X_test)[:,1]))\n",
    "print(recall_score(y_test, sv_pipe.predict(X_test)))"
   ]
  },
  {
   "cell_type": "markdown",
   "metadata": {},
   "source": [
    "### Random Forest"
   ]
  },
  {
   "cell_type": "code",
   "execution_count": 11,
   "metadata": {},
   "outputs": [
    {
     "data": {
      "text/plain": [
       "630"
      ]
     },
     "execution_count": 11,
     "metadata": {},
     "output_type": "execute_result"
    }
   ],
   "source": [
    "rf = RandomForestClassifier(oob_score=True)\n",
    "rf_pipe = Pipeline([('upsample', ros), ('model', rf)])\n",
    "rf_pipe.fit(X_train, y_train)\n",
    "np.argmax(rf_pipe.steps[0][1].oob_decision_function_,axis=1).shape[0]"
   ]
  },
  {
   "cell_type": "code",
   "execution_count": 19,
   "metadata": {},
   "outputs": [
    {
     "data": {
      "text/plain": [
       "RandomForestClassifier(class_weight='balanced', max_depth=9,\n",
       "                       max_features=0.9769836112191183, min_samples_leaf=14,\n",
       "                       min_samples_split=7, n_estimators=88, oob_score=True)"
      ]
     },
     "execution_count": 19,
     "metadata": {},
     "output_type": "execute_result"
    }
   ],
   "source": [
    "rf_pipe.steps[0][1]"
   ]
  },
  {
   "cell_type": "code",
   "execution_count": 26,
   "metadata": {},
   "outputs": [
    {
     "name": "stdout",
     "output_type": "stream",
     "text": [
      "100%|████████████████████████████████████████████████| 80/80 [00:31<00:00,  2.54trial/s, best loss: 0.3746608946608946]\n",
      "{'model__max_depth': 6, 'model__max_features': 0.8852172180439821, 'model__min_samples_leaf': 2, 'model__min_samples_split': 7, 'model__n_estimators': 165}\n"
     ]
    }
   ],
   "source": [
    "def rf_objective(params):\n",
    "    rf_pipe.set_params(**params)\n",
    "    rf_pipe.fit(X_train,y_train)\n",
    "    score = roc_auc_score(y_train,rf_pipe.steps[0][1].oob_decision_function_[:,1])\n",
    "    return 1-score\n",
    "\n",
    "rf = RandomForestClassifier(oob_score=True, class_weight = 'balanced_subsample')\n",
    "rf_pipe = Pipeline([('model', rf)])\n",
    "# These search spaces are kinda arbitrary\n",
    "rf_params = {'model__n_estimators': hp.choice('model__n_estimators', range(30,200)),\n",
    "             'model__min_samples_leaf': hp.choice('model__min_samples_leaf',range(1,21)),\n",
    "             'model__min_samples_split': hp.choice('model__min_samples_split',range(2,21)),\n",
    "            'model__max_features': hp.uniform('model__max_features', 0.5, 1.0),\n",
    "            'model__max_depth': hp.choice('model__max_depth', range(3,10))}\n",
    "rf_trials = Trials()\n",
    "rf_best = fmin(fn=rf_objective, space=rf_params, algo=anneal.suggest,\n",
    "              max_evals=80,trials=rf_trials)\n",
    "rf_best_params = space_eval(rf_params, rf_best)\n",
    "print(rf_best_params)\n"
   ]
  },
  {
   "cell_type": "code",
   "execution_count": 27,
   "metadata": {},
   "outputs": [
    {
     "name": "stdout",
     "output_type": "stream",
     "text": [
      "0.5009041591320073\n",
      "0.07142857142857142\n",
      "0.9872438672438673\n",
      "0.9454545454545454\n"
     ]
    }
   ],
   "source": [
    "rf_pipe.set_params(**rf_best_params)\n",
    "rf_pipe.fit(X_train, y_train) \n",
    "print(roc_auc_score(y_test, rf_pipe.predict_proba(X_test)[:,1]))\n",
    "print(recall_score(y_test, rf_pipe.predict(X_test)))\n",
    "print(roc_auc_score(y_train, rf_pipe.predict_proba(X_train)[:,1]))\n",
    "print(recall_score(y_train, rf_pipe.predict(X_train)))"
   ]
  },
  {
   "cell_type": "markdown",
   "metadata": {},
   "source": [
    "### Gradient boost"
   ]
  },
  {
   "cell_type": "code",
   "execution_count": null,
   "metadata": {},
   "outputs": [],
   "source": [
    "import xgboost as xgb\n",
    "D_train = xgb.DMatrix(X_train, label=y_train)\n",
    "D_test = xgb.DMatrix(X_test, label=y_test)\n",
    "\n",
    "def gb_objective(params):\n",
    "    gb_pipe.set_params(**params)\n",
    "    score = cross_val_score(gb_pipe, X_train, y_train, cv=kf, scoring='roc_auc').mean()\n",
    "    return 1-score\n",
    "\n",
    "gb = xgb.XGBClassifier()\n",
    "gb_pipe = Pipeline([('upsample', smoter_nc), ('model',gb)])\n",
    "gb_params = {'model__n_estimators': hp.choice('model__n_estimators', range(15,30)),\n",
    "             'model__learning_rate': hp.uniform('model__learning_rate',0.01,0.2),\n",
    "             'model__max_depth': hp.choice('model__max_depth', range(3,5)),\n",
    "            'model__subsample': hp.uniform('model__subsample', 0.8, 1.0),\n",
    "            'model__gamma': hp.uniform('model__gamma', 0., 0.3),\n",
    "            'model__reg_lambda': hp.uniform('model__reg_lambda', 1.0,9.0)}\n",
    "gb_trials = Trials()\n",
    "gb_best = fmin(fn=gb_objective, space=gb_params, algo=anneal.suggest,\n",
    "              max_evals=100,trials=gb_trials)\n",
    "gb_best_params = space_eval(gb_params, gb_best)"
   ]
  },
  {
   "cell_type": "code",
   "execution_count": null,
   "metadata": {},
   "outputs": [],
   "source": [
    "print(gb_best_params)\n",
    "gb_pipe.set_params(**gb_best_params)\n",
    "gb_pipe.fit(X_train, y_train) \n",
    "print(roc_auc_score(y_test, gb_pipe.predict_proba(X_test)[:,1]))\n",
    "print(recall_score(y_test, gb_pipe.predict(X_test)))\n",
    "print(roc_auc_score(y_train, gb_pipe.predict_proba(X_train)[:,1]))\n",
    "print(recall_score(y_train, gb_pipe.predict(X_train)))\n",
    "print(accuracy_score(y_train, gb_pipe.predict(X_train)))"
   ]
  },
  {
   "cell_type": "markdown",
   "metadata": {},
   "source": [
    "### Catboost"
   ]
  },
  {
   "cell_type": "code",
   "execution_count": null,
   "metadata": {},
   "outputs": [],
   "source": [
    "cb_pipe.fit(X_train,y_train)"
   ]
  },
  {
   "cell_type": "code",
   "execution_count": null,
   "metadata": {},
   "outputs": [],
   "source": [
    "import catboost as ctb\n",
    "\n",
    "def cb_objective(params):\n",
    "    cb_pipe.set_params(**params)\n",
    "    score = cross_val_score(cb_pipe, X_train, y_train, cv=kf, scoring='roc_auc').mean()\n",
    "    return 1-score\n",
    "\n",
    "# Cat boost requires you to specify which features are categorical\n",
    "cat_feats = list(range(2,11))+list(range(23,27))\n",
    "\n",
    "\n",
    "# Print every 200 iters\n",
    "cb = ctb.CatBoostClassifier(verbose=False, eval_metric='AUC',\n",
    "                            cat_features=cat_feats) \n",
    "cb_pipe = Pipeline([('upsample', ros), ('model',cb)])\n",
    "cb_params = {'model__n_estimators': hp.choice('model__n_estimators', range(15,70)),\n",
    "             'model__learning_rate': hp.uniform('model__learning_rate',0.01,0.35),\n",
    "             'model__max_depth': hp.choice('model__max_depth', range(3,9)),\n",
    "            #'model__subsample': hp.uniform('model__subsample', 0.8, 1.0),}\n",
    "             }\n",
    "cb_trials = Trials()\n",
    "cb_best = fmin(fn=cb_objective, space=cb_params, algo=anneal.suggest,\n",
    "              max_evals=100,trials=cb_trials)\n",
    "cb_best_params = space_eval(cb_params, cb_best)"
   ]
  },
  {
   "cell_type": "code",
   "execution_count": null,
   "metadata": {},
   "outputs": [],
   "source": [
    "cb_pipe.set_params(**cb_best_params)\n",
    "cross_val_score(cb_pipe, X_train, y_train, cv=kf, scoring='roc_auc').mean()"
   ]
  },
  {
   "cell_type": "markdown",
   "metadata": {},
   "source": [
    "### Lightgbm"
   ]
  },
  {
   "cell_type": "code",
   "execution_count": null,
   "metadata": {},
   "outputs": [],
   "source": []
  },
  {
   "cell_type": "code",
   "execution_count": 1,
   "metadata": {},
   "outputs": [
    {
     "ename": "NameError",
     "evalue": "name 'Pipeline' is not defined",
     "output_type": "error",
     "traceback": [
      "\u001b[1;31m---------------------------------------------------------------------------\u001b[0m",
      "\u001b[1;31mNameError\u001b[0m                                 Traceback (most recent call last)",
      "\u001b[1;32m<ipython-input-1-f21eb05303f6>\u001b[0m in \u001b[0;36m<module>\u001b[1;34m\u001b[0m\n\u001b[0;32m     11\u001b[0m \u001b[1;31m# Print every 200 iters\u001b[0m\u001b[1;33m\u001b[0m\u001b[1;33m\u001b[0m\u001b[1;33m\u001b[0m\u001b[0m\n\u001b[0;32m     12\u001b[0m \u001b[0mlg\u001b[0m \u001b[1;33m=\u001b[0m \u001b[0mlgb\u001b[0m\u001b[1;33m.\u001b[0m\u001b[0mLGBMClassifier\u001b[0m\u001b[1;33m(\u001b[0m\u001b[0mmetric\u001b[0m\u001b[1;33m=\u001b[0m\u001b[1;34m'binary_logloss'\u001b[0m\u001b[1;33m,\u001b[0m \u001b[0mcategorical_features\u001b[0m\u001b[1;33m=\u001b[0m\u001b[0mcat_feats\u001b[0m\u001b[1;33m)\u001b[0m\u001b[1;33m\u001b[0m\u001b[1;33m\u001b[0m\u001b[0m\n\u001b[1;32m---> 13\u001b[1;33m \u001b[0mlg_pipe\u001b[0m \u001b[1;33m=\u001b[0m \u001b[0mPipeline\u001b[0m\u001b[1;33m(\u001b[0m\u001b[1;33m[\u001b[0m\u001b[1;33m(\u001b[0m\u001b[1;34m'upsample'\u001b[0m\u001b[1;33m,\u001b[0m \u001b[0mros\u001b[0m\u001b[1;33m)\u001b[0m\u001b[1;33m,\u001b[0m \u001b[1;33m(\u001b[0m\u001b[1;34m'model'\u001b[0m\u001b[1;33m,\u001b[0m\u001b[0mlg\u001b[0m\u001b[1;33m)\u001b[0m\u001b[1;33m]\u001b[0m\u001b[1;33m)\u001b[0m\u001b[1;33m\u001b[0m\u001b[1;33m\u001b[0m\u001b[0m\n\u001b[0m\u001b[0;32m     14\u001b[0m lg_params = {'model__n_estimators': hp.choice('model__n_estimators', range(15,80)),\n\u001b[0;32m     15\u001b[0m              \u001b[1;34m'model__learning_rate'\u001b[0m\u001b[1;33m:\u001b[0m \u001b[0mhp\u001b[0m\u001b[1;33m.\u001b[0m\u001b[0muniform\u001b[0m\u001b[1;33m(\u001b[0m\u001b[1;34m'model__learning_rate'\u001b[0m\u001b[1;33m,\u001b[0m\u001b[1;36m0.091\u001b[0m\u001b[1;33m,\u001b[0m\u001b[1;36m0.35\u001b[0m\u001b[1;33m)\u001b[0m\u001b[1;33m,\u001b[0m\u001b[1;33m\u001b[0m\u001b[1;33m\u001b[0m\u001b[0m\n",
      "\u001b[1;31mNameError\u001b[0m: name 'Pipeline' is not defined"
     ]
    }
   ],
   "source": [
    "import lightgbm as lgb\n",
    "\n",
    "def lg_objective(params):\n",
    "    lg_pipe.set_params(**params)\n",
    "    score = cross_val_score(lg_pipe, X_train, y_train, cv=kf, scoring='roc_auc').mean()\n",
    "    return 1-score\n",
    "\n",
    "cat_feats = list(range(2,11))+list(range(23,27))\n",
    "ign_feats = list(range(16,18))+[20]+[23]\n",
    "\n",
    "# Print every 200 iters\n",
    "lg = lgb.LGBMClassifier(metric='binary_logloss', categorical_features=cat_feats)\n",
    "lg_pipe = Pipeline([('upsample', ros), ('model',lg)])\n",
    "lg_params = {'model__n_estimators': hp.choice('model__n_estimators', range(15,80)),\n",
    "             'model__learning_rate': hp.uniform('model__learning_rate',0.091,0.35),\n",
    "             'model__max_depth': hp.choice('model__max_depth', range(3,9)),\n",
    "             'model__bagging_fraction ': hp.uniform('model__subsample', 0.7, 1.0),\n",
    "             'model__lambda': hp.uniform('model__lambda', 0.2,1.0)}\n",
    "             \n",
    "lg_trials = Trials()\n",
    "lg_best = fmin(fn=lg_objective, space=lg_params, algo=anneal.suggest,\n",
    "              max_evals=100,trials=lg_trials)\n",
    "lg_best_params = space_eval(lg_params, lg_best)"
   ]
  },
  {
   "cell_type": "code",
   "execution_count": 5,
   "metadata": {},
   "outputs": [
    {
     "name": "stdout",
     "output_type": "stream",
     "text": [
      "0.6346320346320347\n"
     ]
    },
    {
     "data": {
      "text/plain": [
       "<matplotlib.axes._subplots.AxesSubplot at 0x1f8ebf65e08>"
      ]
     },
     "execution_count": 5,
     "metadata": {},
     "output_type": "execute_result"
    },
    {
     "data": {
      "image/png": "[encoded data removed]",
      "text/plain": [
       "<Figure size 432x288 with 1 Axes>"
      ]
     },
     "metadata": {
      "needs_background": "light"
     },
     "output_type": "display_data"
    }
   ],
   "source": [
    "lg_pipe.set_params(**lg_best_params)\n",
    "print(cross_val_score(lg_pipe, X_train, y_train, cv=kf, scoring='roc_auc').mean())\n",
    "lg_pipe.fit(X_train.drop(columns=X_train.columns[ign_feats]), y_train)\n",
    "lgb.plot_importance(lg_pipe.steps[1][1])"
   ]
  },
  {
   "cell_type": "code",
   "execution_count": 8,
   "metadata": {},
   "outputs": [
    {
     "data": {
      "text/plain": [
       "dict_keys(['model__lambda', 'model__learning_rate', 'model__max_depth', 'model__n_estimators', 'model__subsample'])"
      ]
     },
     "execution_count": 8,
     "metadata": {},
     "output_type": "execute_result"
    }
   ],
   "source": [
    "lg_trials.vals.keys()"
   ]
  },
  {
   "cell_type": "code",
   "execution_count": 48,
   "metadata": {},
   "outputs": [
    {
     "data": {
      "text/plain": [
       "(array([0.3  , 0.325, 0.35 , 0.375, 0.4  , 0.425, 0.45 , 0.475, 0.5  ,\n",
       "        0.525]),\n",
       " <a list of 10 Text yticklabel objects>)"
      ]
     },
     "execution_count": 48,
     "metadata": {},
     "output_type": "execute_result"
    },
    {
     "data": {
      "image/png": "[encoded data removed]",
      "text/plain": [
       "<Figure size 504x360 with 1 Axes>"
      ]
     },
     "metadata": {
      "needs_background": "light"
     },
     "output_type": "display_data"
    }
   ],
   "source": [
    "import matplotlib.pyplot as plt\n",
    "import seaborn as sns\n",
    "param = lg_trials.vals['model__learning_rate']\n",
    "loss = [x['loss'] for x in lg_trials.results]\n",
    "fig=plt.figure(figsize=(7,5))\n",
    "sns.scatterplot(x=param, y=loss, c=range(len(loss)), cmap='RdBu') # Blue = later trials\n",
    "plt.xlabel(\"Learning rate\", size=14)\n",
    "plt.ylabel(\"Loss\", size=14)\n",
    "plt.xticks(size=12)\n",
    "plt.yticks(size=12)"
   ]
  },
  {
   "cell_type": "code",
   "execution_count": null,
   "metadata": {},
   "outputs": [],
   "source": [
    "ign_feats = list(range(16,18))+list(range(20,24))\n",
    "X_train.columns[ign_feats]"
   ]
  },
  {
   "cell_type": "code",
   "execution_count": null,
   "metadata": {},
   "outputs": [],
   "source": [
    "list(range(16,18))+[20]+[23]"
   ]
  },
  {
   "cell_type": "markdown",
   "metadata": {},
   "source": [
    "### Manual bootstrapping minority class"
   ]
  }
 ],
 "metadata": {
  "kernelspec": {
   "display_name": "Python 3",
   "language": "python",
   "name": "python3"
  },
  "language_info": {
   "codemirror_mode": {
    "name": "ipython",
    "version": 3
   },
   "file_extension": ".py",
   "mimetype": "text/x-python",
   "name": "python",
   "nbconvert_exporter": "python",
   "pygments_lexer": "ipython3",
   "version": "3.7.4"
  }
 },
 "nbformat": 4,
 "nbformat_minor": 4
}
